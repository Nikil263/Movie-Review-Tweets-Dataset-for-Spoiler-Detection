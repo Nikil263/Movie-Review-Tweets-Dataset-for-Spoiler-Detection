{
  "nbformat": 4,
  "nbformat_minor": 0,
  "metadata": {
    "colab": {
      "provenance": [],
      "authorship_tag": "ABX9TyN4taHDXQUt1JG2mGiOfe7I",
      "include_colab_link": true
    },
    "kernelspec": {
      "name": "python3",
      "display_name": "Python 3"
    },
    "language_info": {
      "name": "python"
    }
  },
  "cells": [
    {
      "cell_type": "markdown",
      "metadata": {
        "id": "view-in-github",
        "colab_type": "text"
      },
      "source": [
        "<a href=\"https://colab.research.google.com/github/Nikil263/Movie-Review-Tweets-Dataset-for-Spoiler-Detection/blob/main/baseline1.ipynb\" target=\"_parent\"><img src=\"https://colab.research.google.com/assets/colab-badge.svg\" alt=\"Open In Colab\"/></a>"
      ]
    },
    {
      "cell_type": "markdown",
      "source": [
        "Baseline 1"
      ],
      "metadata": {
        "id": "La5QPPXgod8q"
      }
    },
    {
      "cell_type": "code",
      "source": [
        "import pandas as pd\n",
        "import nltk\n",
        "from nltk.tokenize import word_tokenize\n",
        "from nltk.corpus import stopwords\n",
        "from nltk.stem import WordNetLemmatizer\n",
        "import re\n",
        "\n",
        "nltk.download('stopwords')\n",
        "nltk.download('wordnet')\n",
        "nltk.download('punkt')\n",
        "nltk.download('omw-1.4')\n",
        "nltk.download('averaged_perceptron_tagger')\n",
        "nltk.download('maxent_ne_chunker')\n",
        "nltk.download('words')\n",
        "\n",
        "# Load data\n",
        "def load_data(file_path):\n",
        "    data = pd.read_csv(file_path)\n",
        "    return data\n",
        "\n",
        "# Define pre-processing function\n",
        "def preprocess_text(text):\n",
        "    # Convert to lowercase\n",
        "    text = text.lower()\n",
        "    # Remove URLs\n",
        "    text = re.sub(r'http\\S+', '', text)\n",
        "    # Tokenize text\n",
        "    tokens = word_tokenize(text)\n",
        "    # Remove stop words\n",
        "    stop_words = set(stopwords.words('english'))\n",
        "    tokens = [token for token in tokens if not token in stop_words]\n",
        "    # Lemmatize text\n",
        "    lemmatizer = WordNetLemmatizer()\n",
        "    tokens = [lemmatizer.lemmatize(token) for token in tokens]\n",
        "    # Join tokens back into a string\n",
        "    text = ' '.join(tokens)\n",
        "    return text\n",
        "\n",
        "# Define feature extraction functions\n",
        "def extract_named_entities(text):\n",
        "    named_entities = []\n",
        "    for sent in nltk.sent_tokenize(text):\n",
        "        for chunk in nltk.ne_chunk(nltk.pos_tag(nltk.word_tokenize(sent))):\n",
        "            if hasattr(chunk, 'label'):\n",
        "                named_entities.append(' '.join(c[0] for c in chunk))\n",
        "    return named_entities\n",
        "\n",
        "def extract_frequent_verbs(text):\n",
        "    # Tokenize text\n",
        "    tokens = word_tokenize(text)\n",
        "    # Get parts-of-speech tags\n",
        "    pos_tags = nltk.pos_tag(tokens)\n",
        "    # Filter for verbs only\n",
        "    verbs = [token for token, pos in pos_tags if pos.startswith('V')]\n",
        "    # Get the most frequent verbs\n",
        "    freq_dist = nltk.FreqDist(verbs)\n",
        "    most_common_verbs = [verb for verb, freq in freq_dist.most_common(10)]\n",
        "    return most_common_verbs\n",
        "\n",
        "def has_url(text):\n",
        "    # Check if text contains a URL\n",
        "    url_pattern = r'https?://\\S+'\n",
        "    if re.search(url_pattern, text):\n",
        "        return True\n",
        "    else:\n",
        "        return False\n",
        "\n",
        "# Load data and extract features\n",
        "data = load_data('/content/labeldataset mod-2.csv')\n",
        "data['processed_text'] = data['TWEET'].apply(preprocess_text)\n",
        "data['named_entities'] = data['processed_text'].apply(extract_named_entities)\n",
        "data['frequent_verbs'] = data['processed_text'].apply(extract_frequent_verbs)\n",
        "data['has_url'] = data['processed_text'].apply(has_url)\n",
        "\n",
        "# Print the first five rows of the data\n",
        "print(data.head())\n"
      ],
      "metadata": {
        "colab": {
          "base_uri": "https://localhost:8080/"
        },
        "id": "ca-EWYjY-g_Z",
        "outputId": "e9e425c4-0bc8-4358-da92-286d77aafe45"
      },
      "execution_count": 1,
      "outputs": [
        {
          "output_type": "stream",
          "name": "stderr",
          "text": [
            "[nltk_data] Downloading package stopwords to /root/nltk_data...\n",
            "[nltk_data]   Unzipping corpora/stopwords.zip.\n",
            "[nltk_data] Downloading package wordnet to /root/nltk_data...\n",
            "[nltk_data] Downloading package punkt to /root/nltk_data...\n",
            "[nltk_data]   Unzipping tokenizers/punkt.zip.\n",
            "[nltk_data] Downloading package omw-1.4 to /root/nltk_data...\n",
            "[nltk_data] Downloading package averaged_perceptron_tagger to\n",
            "[nltk_data]     /root/nltk_data...\n",
            "[nltk_data]   Unzipping taggers/averaged_perceptron_tagger.zip.\n",
            "[nltk_data] Downloading package maxent_ne_chunker to\n",
            "[nltk_data]     /root/nltk_data...\n",
            "[nltk_data]   Unzipping chunkers/maxent_ne_chunker.zip.\n",
            "[nltk_data] Downloading package words to /root/nltk_data...\n",
            "[nltk_data]   Unzipping corpora/words.zip.\n"
          ]
        },
        {
          "output_type": "stream",
          "name": "stdout",
          "text": [
            "   LABEL                                              TWEET  \\\n",
            "0      0       Ayooooooo we been lit lately Nobu tomorrow 🤪   \n",
            "1      0   Perma negativity being fomented on the airwav...   \n",
            "2      1  Divergent literally destroyed the teen dystopi...   \n",
            "3      0  @Malie_N We're here for a good time not a long...   \n",
            "4      1  My favorite @DivergentClub_!\\nI wish I can min...   \n",
            "\n",
            "                                      processed_text named_entities  \\\n",
            "0               ayooooooo lit lately nobu tomorrow 🤪             []   \n",
            "1  perma negativity fomented airwave — divergent ...             []   \n",
            "2  divergent literally destroyed teen dystopia genre             []   \n",
            "3                @ malie_n 're good time long time 🤝             []   \n",
            "4            favorite @ divergentclub_ ! wish mint 😺             []   \n",
            "\n",
            "                  frequent_verbs  has_url  \n",
            "0                             []    False  \n",
            "1  [fomented, airwave, shown, —]    False  \n",
            "2                    [destroyed]    False  \n",
            "3                          ['re]    False  \n",
            "4                             []    False  \n"
          ]
        }
      ]
    },
    {
      "cell_type": "code",
      "source": [
        "data['has_url']=data['has_url'].astype(str)"
      ],
      "metadata": {
        "id": "ICUXKxiYuw39"
      },
      "execution_count": 2,
      "outputs": []
    },
    {
      "cell_type": "code",
      "source": [
        "data['processed_text'].fillna('unknown', inplace=True)\n",
        "data['named_entities'].fillna('unknown', inplace=True)\n",
        "data['named_entities'].fillna('unknown', inplace=True)\n",
        "data['has_url'].fillna('false', inplace=True)\n",
        "data['LABEL'].fillna(0, inplace=True)"
      ],
      "metadata": {
        "id": "m2aAKqY2vvXa"
      },
      "execution_count": 3,
      "outputs": []
    },
    {
      "cell_type": "code",
      "source": [
        "from sklearn.model_selection import train_test_split\n",
        "from sklearn.feature_extraction.text import CountVectorizer\n",
        "from sklearn.svm import SVC\n",
        "\n",
        "# Convert named entities and frequent verbs to one-hot encoding\n",
        "named_entities = pd.get_dummies(data['named_entities'].apply(pd.Series).stack()).sum(level=0)\n",
        "frequent_verbs = pd.get_dummies(data['frequent_verbs'].apply(pd.Series).stack()).sum(level=0)\n",
        "has_url = pd.get_dummies(data['has_url'])\n",
        "\n",
        "# Combine processed text, named entities, and frequent verbs into a single dataframe\n",
        "features = pd.concat([data['processed_text'], named_entities, frequent_verbs, has_url], axis=1)\n",
        "\n",
        "# Split data into training and test sets\n",
        "X_train, X_test, y_train, y_test = train_test_split(features, data['LABEL'], test_size=0.2, random_state=42, stratify=data['LABEL'])\n",
        "\n",
        "# Convert text features to feature vectors using CountVectorizer\n",
        "vectorizer = CountVectorizer()\n",
        "X_train_text = vectorizer.fit_transform(X_train['processed_text'])\n",
        "X_test_text = vectorizer.transform(X_test['processed_text'])\n",
        "\n",
        "# Get list of all features\n",
        "feature_names = vectorizer.get_feature_names_out()\n",
        "\n",
        "# Combine text features and one-hot encoded features into a single feature matrix\n",
        "X_train_features = pd.concat([pd.DataFrame(X_train_text.toarray(), columns=feature_names), X_train.iloc[:, 1:]], axis=1)\n",
        "X_test_features = pd.concat([pd.DataFrame(X_test_text.toarray(), columns=feature_names), X_test.iloc[:, 1:]], axis=1)\n",
        "\n",
        "\n"
      ],
      "metadata": {
        "colab": {
          "base_uri": "https://localhost:8080/"
        },
        "id": "JdAt_wfNsoVH",
        "outputId": "92c9e71d-5e02-4d4a-bde3-ec2e30d69185"
      },
      "execution_count": 4,
      "outputs": [
        {
          "output_type": "stream",
          "name": "stderr",
          "text": [
            "<ipython-input-4-7d414a7930f6>:6: FutureWarning: The default dtype for empty Series will be 'object' instead of 'float64' in a future version. Specify a dtype explicitly to silence this warning.\n",
            "  named_entities = pd.get_dummies(data['named_entities'].apply(pd.Series).stack()).sum(level=0)\n",
            "<ipython-input-4-7d414a7930f6>:6: FutureWarning: Using the level keyword in DataFrame and Series aggregations is deprecated and will be removed in a future version. Use groupby instead. df.sum(level=1) should use df.groupby(level=1).sum().\n",
            "  named_entities = pd.get_dummies(data['named_entities'].apply(pd.Series).stack()).sum(level=0)\n",
            "<ipython-input-4-7d414a7930f6>:7: FutureWarning: The default dtype for empty Series will be 'object' instead of 'float64' in a future version. Specify a dtype explicitly to silence this warning.\n",
            "  frequent_verbs = pd.get_dummies(data['frequent_verbs'].apply(pd.Series).stack()).sum(level=0)\n",
            "<ipython-input-4-7d414a7930f6>:7: FutureWarning: Using the level keyword in DataFrame and Series aggregations is deprecated and will be removed in a future version. Use groupby instead. df.sum(level=1) should use df.groupby(level=1).sum().\n",
            "  frequent_verbs = pd.get_dummies(data['frequent_verbs'].apply(pd.Series).stack()).sum(level=0)\n"
          ]
        }
      ]
    },
    {
      "cell_type": "code",
      "source": [
        "from sklearn.impute import SimpleImputer\n",
        "\n",
        "# Fill in missing values with the mean of the respective feature column\n",
        "imputer = SimpleImputer(strategy='mean')\n",
        "X_train_features = imputer.fit_transform(X_train_features)\n",
        "X_test_features = imputer.transform(X_test_features)\n",
        "\n",
        "\n"
      ],
      "metadata": {
        "id": "EhN8HjOPw4X7"
      },
      "execution_count": 18,
      "outputs": []
    },
    {
      "cell_type": "code",
      "source": [
        "X_train_features_df = pd.DataFrame(X_train_features)\n",
        "\n",
        "X_train_features_df = X_train_features_df.iloc[:]\n",
        "\n",
        "# Convert back to numpy array\n",
        "X_train_features = X_train_features_df.to_numpy()\n",
        "\n",
        "y_train = y_train[:2913]\n"
      ],
      "metadata": {
        "id": "kLiil_40yR9u"
      },
      "execution_count": 23,
      "outputs": []
    },
    {
      "cell_type": "code",
      "source": [
        "# Train SVM model\n",
        "svm_model = SVC(kernel='linear', random_state=42)\n",
        "svm_model.fit(X_train_features, y_train)\n",
        "\n",
        "\n"
      ],
      "metadata": {
        "colab": {
          "base_uri": "https://localhost:8080/",
          "height": 74
        },
        "id": "MdN57iH1yOJl",
        "outputId": "2099f537-3829-4af4-b643-738b8b3b3f3f"
      },
      "execution_count": 24,
      "outputs": [
        {
          "output_type": "execute_result",
          "data": {
            "text/plain": [
              "SVC(kernel='linear', random_state=42)"
            ],
            "text/html": [
              "<style>#sk-container-id-1 {color: black;background-color: white;}#sk-container-id-1 pre{padding: 0;}#sk-container-id-1 div.sk-toggleable {background-color: white;}#sk-container-id-1 label.sk-toggleable__label {cursor: pointer;display: block;width: 100%;margin-bottom: 0;padding: 0.3em;box-sizing: border-box;text-align: center;}#sk-container-id-1 label.sk-toggleable__label-arrow:before {content: \"▸\";float: left;margin-right: 0.25em;color: #696969;}#sk-container-id-1 label.sk-toggleable__label-arrow:hover:before {color: black;}#sk-container-id-1 div.sk-estimator:hover label.sk-toggleable__label-arrow:before {color: black;}#sk-container-id-1 div.sk-toggleable__content {max-height: 0;max-width: 0;overflow: hidden;text-align: left;background-color: #f0f8ff;}#sk-container-id-1 div.sk-toggleable__content pre {margin: 0.2em;color: black;border-radius: 0.25em;background-color: #f0f8ff;}#sk-container-id-1 input.sk-toggleable__control:checked~div.sk-toggleable__content {max-height: 200px;max-width: 100%;overflow: auto;}#sk-container-id-1 input.sk-toggleable__control:checked~label.sk-toggleable__label-arrow:before {content: \"▾\";}#sk-container-id-1 div.sk-estimator input.sk-toggleable__control:checked~label.sk-toggleable__label {background-color: #d4ebff;}#sk-container-id-1 div.sk-label input.sk-toggleable__control:checked~label.sk-toggleable__label {background-color: #d4ebff;}#sk-container-id-1 input.sk-hidden--visually {border: 0;clip: rect(1px 1px 1px 1px);clip: rect(1px, 1px, 1px, 1px);height: 1px;margin: -1px;overflow: hidden;padding: 0;position: absolute;width: 1px;}#sk-container-id-1 div.sk-estimator {font-family: monospace;background-color: #f0f8ff;border: 1px dotted black;border-radius: 0.25em;box-sizing: border-box;margin-bottom: 0.5em;}#sk-container-id-1 div.sk-estimator:hover {background-color: #d4ebff;}#sk-container-id-1 div.sk-parallel-item::after {content: \"\";width: 100%;border-bottom: 1px solid gray;flex-grow: 1;}#sk-container-id-1 div.sk-label:hover label.sk-toggleable__label {background-color: #d4ebff;}#sk-container-id-1 div.sk-serial::before {content: \"\";position: absolute;border-left: 1px solid gray;box-sizing: border-box;top: 0;bottom: 0;left: 50%;z-index: 0;}#sk-container-id-1 div.sk-serial {display: flex;flex-direction: column;align-items: center;background-color: white;padding-right: 0.2em;padding-left: 0.2em;position: relative;}#sk-container-id-1 div.sk-item {position: relative;z-index: 1;}#sk-container-id-1 div.sk-parallel {display: flex;align-items: stretch;justify-content: center;background-color: white;position: relative;}#sk-container-id-1 div.sk-item::before, #sk-container-id-1 div.sk-parallel-item::before {content: \"\";position: absolute;border-left: 1px solid gray;box-sizing: border-box;top: 0;bottom: 0;left: 50%;z-index: -1;}#sk-container-id-1 div.sk-parallel-item {display: flex;flex-direction: column;z-index: 1;position: relative;background-color: white;}#sk-container-id-1 div.sk-parallel-item:first-child::after {align-self: flex-end;width: 50%;}#sk-container-id-1 div.sk-parallel-item:last-child::after {align-self: flex-start;width: 50%;}#sk-container-id-1 div.sk-parallel-item:only-child::after {width: 0;}#sk-container-id-1 div.sk-dashed-wrapped {border: 1px dashed gray;margin: 0 0.4em 0.5em 0.4em;box-sizing: border-box;padding-bottom: 0.4em;background-color: white;}#sk-container-id-1 div.sk-label label {font-family: monospace;font-weight: bold;display: inline-block;line-height: 1.2em;}#sk-container-id-1 div.sk-label-container {text-align: center;}#sk-container-id-1 div.sk-container {/* jupyter's `normalize.less` sets `[hidden] { display: none; }` but bootstrap.min.css set `[hidden] { display: none !important; }` so we also need the `!important` here to be able to override the default hidden behavior on the sphinx rendered scikit-learn.org. See: https://github.com/scikit-learn/scikit-learn/issues/21755 */display: inline-block !important;position: relative;}#sk-container-id-1 div.sk-text-repr-fallback {display: none;}</style><div id=\"sk-container-id-1\" class=\"sk-top-container\"><div class=\"sk-text-repr-fallback\"><pre>SVC(kernel=&#x27;linear&#x27;, random_state=42)</pre><b>In a Jupyter environment, please rerun this cell to show the HTML representation or trust the notebook. <br />On GitHub, the HTML representation is unable to render, please try loading this page with nbviewer.org.</b></div><div class=\"sk-container\" hidden><div class=\"sk-item\"><div class=\"sk-estimator sk-toggleable\"><input class=\"sk-toggleable__control sk-hidden--visually\" id=\"sk-estimator-id-1\" type=\"checkbox\" checked><label for=\"sk-estimator-id-1\" class=\"sk-toggleable__label sk-toggleable__label-arrow\">SVC</label><div class=\"sk-toggleable__content\"><pre>SVC(kernel=&#x27;linear&#x27;, random_state=42)</pre></div></div></div></div></div>"
            ]
          },
          "metadata": {},
          "execution_count": 24
        }
      ]
    },
    {
      "cell_type": "code",
      "source": [
        "# Evaluate model on test data\n",
        "y_pred = svm_model.predict(X_test_features)\n"
      ],
      "metadata": {
        "id": "lmhbrs2o1IcP"
      },
      "execution_count": 27,
      "outputs": []
    },
    {
      "cell_type": "code",
      "source": [
        "y_pred = y_pred[:-648]\n",
        "y_pred.size"
      ],
      "metadata": {
        "colab": {
          "base_uri": "https://localhost:8080/"
        },
        "id": "aEgH3Quw2YAo",
        "outputId": "e7906d1f-c754-40e7-b491-d1ab43abf118"
      },
      "execution_count": 29,
      "outputs": [
        {
          "output_type": "execute_result",
          "data": {
            "text/plain": [
              "800"
            ]
          },
          "metadata": {},
          "execution_count": 29
        }
      ]
    },
    {
      "cell_type": "code",
      "source": [
        "accuracy = (y_pred == y_test).mean()\n",
        "print('Accuracy:', accuracy)\n"
      ],
      "metadata": {
        "colab": {
          "base_uri": "https://localhost:8080/"
        },
        "id": "capu1lJs2lWX",
        "outputId": "03b62c23-7c44-4e2d-b316-ddc5efa7383b"
      },
      "execution_count": 30,
      "outputs": [
        {
          "output_type": "stream",
          "name": "stdout",
          "text": [
            "Accuracy: 0.925\n"
          ]
        }
      ]
    }
  ]
}