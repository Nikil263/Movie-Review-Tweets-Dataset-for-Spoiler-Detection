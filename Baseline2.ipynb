{
  "nbformat": 4,
  "nbformat_minor": 0,
  "metadata": {
    "colab": {
      "provenance": [],
      "authorship_tag": "ABX9TyOeXQDZN1TUMCDnDqymjyBt",
      "include_colab_link": true
    },
    "kernelspec": {
      "name": "python3",
      "display_name": "Python 3"
    },
    "language_info": {
      "name": "python"
    }
  },
  "cells": [
    {
      "cell_type": "markdown",
      "metadata": {
        "id": "view-in-github",
        "colab_type": "text"
      },
      "source": [
        "<a href=\"https://colab.research.google.com/github/Nikil263/Movie-Review-Tweets-Dataset-for-Spoiler-Detection/blob/main/Baseline2.ipynb\" target=\"_parent\"><img src=\"https://colab.research.google.com/assets/colab-badge.svg\" alt=\"Open In Colab\"/></a>"
      ]
    },
    {
      "cell_type": "markdown",
      "source": [
        "Baseline 2"
      ],
      "metadata": {
        "id": "yhX6aitZwzC8"
      }
    },
    {
      "cell_type": "code",
      "source": [
        "import pandas as pd"
      ],
      "metadata": {
        "id": "Xg7UDow9-9L5"
      },
      "execution_count": 1,
      "outputs": []
    },
    {
      "cell_type": "code",
      "source": [
        "df3 = pd.read_csv('/content/labeldataset mod-2.csv')\n",
        "labeled_tweets = df3.iloc[:500,:]\n",
        "val = df3.iloc[800:1001,:]\n",
        "train1 = df3.iloc[1001:1501,:]\n",
        "val1 = df3.iloc[1801:2001,:]\n",
        "train2 = df3.iloc[2001:2501,:]\n",
        "val2 = df3.iloc[2801:3001,:]\n",
        "train3 = df3.iloc[3001:3501,:]\n",
        "val3 = df3.iloc[3801:4001,:]\n",
        "unlabeled_tweets = df3.iloc[500:800,:]\n",
        "unlabeled_tweets1 = df3.iloc[1501:1801,:]\n",
        "unlabeled_tweets2 = df3.iloc[2501:2801,:]\n",
        "unlabeled_tweets3 = df3.iloc[3501:3801,:]\n",
        "unlabeled_tweets = unlabeled_tweets.append(unlabeled_tweets1)\n",
        "unlabeled_tweets = unlabeled_tweets.append(unlabeled_tweets2)\n",
        "unlabeled_tweets = unlabeled_tweets.append(unlabeled_tweets3)\n",
        "\n",
        "labeled_tweets = labeled_tweets.append(train1)\n",
        "labeled_tweets = labeled_tweets.append(train2)\n",
        "labeled_tweets = labeled_tweets.append(train3)\n",
        "val = val.append(val1)\n",
        "val = val.append(val2)\n",
        "val = val.append(val3)"
      ],
      "metadata": {
        "id": "9xnfaksc-f0v",
        "colab": {
          "base_uri": "https://localhost:8080/"
        },
        "outputId": "f3041fc7-7d43-43c7-9c42-247ff6a9d442"
      },
      "execution_count": 2,
      "outputs": [
        {
          "output_type": "stream",
          "name": "stderr",
          "text": [
            "<ipython-input-2-cd87a4432836>:14: FutureWarning: The frame.append method is deprecated and will be removed from pandas in a future version. Use pandas.concat instead.\n",
            "  unlabeled_tweets = unlabeled_tweets.append(unlabeled_tweets1)\n",
            "<ipython-input-2-cd87a4432836>:15: FutureWarning: The frame.append method is deprecated and will be removed from pandas in a future version. Use pandas.concat instead.\n",
            "  unlabeled_tweets = unlabeled_tweets.append(unlabeled_tweets2)\n",
            "<ipython-input-2-cd87a4432836>:16: FutureWarning: The frame.append method is deprecated and will be removed from pandas in a future version. Use pandas.concat instead.\n",
            "  unlabeled_tweets = unlabeled_tweets.append(unlabeled_tweets3)\n",
            "<ipython-input-2-cd87a4432836>:18: FutureWarning: The frame.append method is deprecated and will be removed from pandas in a future version. Use pandas.concat instead.\n",
            "  labeled_tweets = labeled_tweets.append(train1)\n",
            "<ipython-input-2-cd87a4432836>:19: FutureWarning: The frame.append method is deprecated and will be removed from pandas in a future version. Use pandas.concat instead.\n",
            "  labeled_tweets = labeled_tweets.append(train2)\n",
            "<ipython-input-2-cd87a4432836>:20: FutureWarning: The frame.append method is deprecated and will be removed from pandas in a future version. Use pandas.concat instead.\n",
            "  labeled_tweets = labeled_tweets.append(train3)\n",
            "<ipython-input-2-cd87a4432836>:21: FutureWarning: The frame.append method is deprecated and will be removed from pandas in a future version. Use pandas.concat instead.\n",
            "  val = val.append(val1)\n",
            "<ipython-input-2-cd87a4432836>:22: FutureWarning: The frame.append method is deprecated and will be removed from pandas in a future version. Use pandas.concat instead.\n",
            "  val = val.append(val2)\n",
            "<ipython-input-2-cd87a4432836>:23: FutureWarning: The frame.append method is deprecated and will be removed from pandas in a future version. Use pandas.concat instead.\n",
            "  val = val.append(val3)\n"
          ]
        }
      ]
    },
    {
      "cell_type": "code",
      "source": [
        "del unlabeled_tweets['LABEL']\n",
        "unlabeled_tweets['LABEL']=''\n",
        "unlabeled_tweets\n",
        "\n"
      ],
      "metadata": {
        "colab": {
          "base_uri": "https://localhost:8080/",
          "height": 419
        },
        "id": "yn15Qug_BCPW",
        "outputId": "41ff39fe-a7ff-469d-a6d5-b62d5ecf66e6"
      },
      "execution_count": 3,
      "outputs": [
        {
          "output_type": "execute_result",
          "data": {
            "text/plain": [
              "                                                  TWEET LABEL\n",
              "500   Associate administrator… The top dog… William ...      \n",
              "501     Her Former boss… Rachel…https://t.co/WaWMGkVweO      \n",
              "502   @koyushii i want to know more about the space ...      \n",
              "503   nGen integrated cargo management system replac...      \n",
              "504   Divergent economic engagement with Ethiopia by...      \n",
              "...                                                 ...   ...\n",
              "3796                        @RagnerLoL Well done guyz !      \n",
              "3797  @KatanaHugo Great photo!🤩🤩\\nGood evening Hugo....      \n",
              "3798                     I’m not even packing my things      \n",
              "3799  Fix location option issue from [ grafana/world...      \n",
              "3800      @jlm_hugo @theweeknd @theweeknd we’re begging      \n",
              "\n",
              "[1200 rows x 2 columns]"
            ],
            "text/html": [
              "\n",
              "  <div id=\"df-a1b1ba52-606e-43d4-b655-08b35e2f8859\">\n",
              "    <div class=\"colab-df-container\">\n",
              "      <div>\n",
              "<style scoped>\n",
              "    .dataframe tbody tr th:only-of-type {\n",
              "        vertical-align: middle;\n",
              "    }\n",
              "\n",
              "    .dataframe tbody tr th {\n",
              "        vertical-align: top;\n",
              "    }\n",
              "\n",
              "    .dataframe thead th {\n",
              "        text-align: right;\n",
              "    }\n",
              "</style>\n",
              "<table border=\"1\" class=\"dataframe\">\n",
              "  <thead>\n",
              "    <tr style=\"text-align: right;\">\n",
              "      <th></th>\n",
              "      <th>TWEET</th>\n",
              "      <th>LABEL</th>\n",
              "    </tr>\n",
              "  </thead>\n",
              "  <tbody>\n",
              "    <tr>\n",
              "      <th>500</th>\n",
              "      <td>Associate administrator… The top dog… William ...</td>\n",
              "      <td></td>\n",
              "    </tr>\n",
              "    <tr>\n",
              "      <th>501</th>\n",
              "      <td>Her Former boss… Rachel…https://t.co/WaWMGkVweO</td>\n",
              "      <td></td>\n",
              "    </tr>\n",
              "    <tr>\n",
              "      <th>502</th>\n",
              "      <td>@koyushii i want to know more about the space ...</td>\n",
              "      <td></td>\n",
              "    </tr>\n",
              "    <tr>\n",
              "      <th>503</th>\n",
              "      <td>nGen integrated cargo management system replac...</td>\n",
              "      <td></td>\n",
              "    </tr>\n",
              "    <tr>\n",
              "      <th>504</th>\n",
              "      <td>Divergent economic engagement with Ethiopia by...</td>\n",
              "      <td></td>\n",
              "    </tr>\n",
              "    <tr>\n",
              "      <th>...</th>\n",
              "      <td>...</td>\n",
              "      <td>...</td>\n",
              "    </tr>\n",
              "    <tr>\n",
              "      <th>3796</th>\n",
              "      <td>@RagnerLoL Well done guyz !</td>\n",
              "      <td></td>\n",
              "    </tr>\n",
              "    <tr>\n",
              "      <th>3797</th>\n",
              "      <td>@KatanaHugo Great photo!🤩🤩\\nGood evening Hugo....</td>\n",
              "      <td></td>\n",
              "    </tr>\n",
              "    <tr>\n",
              "      <th>3798</th>\n",
              "      <td>I’m not even packing my things</td>\n",
              "      <td></td>\n",
              "    </tr>\n",
              "    <tr>\n",
              "      <th>3799</th>\n",
              "      <td>Fix location option issue from [ grafana/world...</td>\n",
              "      <td></td>\n",
              "    </tr>\n",
              "    <tr>\n",
              "      <th>3800</th>\n",
              "      <td>@jlm_hugo @theweeknd @theweeknd we’re begging</td>\n",
              "      <td></td>\n",
              "    </tr>\n",
              "  </tbody>\n",
              "</table>\n",
              "<p>1200 rows × 2 columns</p>\n",
              "</div>\n",
              "      <button class=\"colab-df-convert\" onclick=\"convertToInteractive('df-a1b1ba52-606e-43d4-b655-08b35e2f8859')\"\n",
              "              title=\"Convert this dataframe to an interactive table.\"\n",
              "              style=\"display:none;\">\n",
              "        \n",
              "  <svg xmlns=\"http://www.w3.org/2000/svg\" height=\"24px\"viewBox=\"0 0 24 24\"\n",
              "       width=\"24px\">\n",
              "    <path d=\"M0 0h24v24H0V0z\" fill=\"none\"/>\n",
              "    <path d=\"M18.56 5.44l.94 2.06.94-2.06 2.06-.94-2.06-.94-.94-2.06-.94 2.06-2.06.94zm-11 1L8.5 8.5l.94-2.06 2.06-.94-2.06-.94L8.5 2.5l-.94 2.06-2.06.94zm10 10l.94 2.06.94-2.06 2.06-.94-2.06-.94-.94-2.06-.94 2.06-2.06.94z\"/><path d=\"M17.41 7.96l-1.37-1.37c-.4-.4-.92-.59-1.43-.59-.52 0-1.04.2-1.43.59L10.3 9.45l-7.72 7.72c-.78.78-.78 2.05 0 2.83L4 21.41c.39.39.9.59 1.41.59.51 0 1.02-.2 1.41-.59l7.78-7.78 2.81-2.81c.8-.78.8-2.07 0-2.86zM5.41 20L4 18.59l7.72-7.72 1.47 1.35L5.41 20z\"/>\n",
              "  </svg>\n",
              "      </button>\n",
              "      \n",
              "  <style>\n",
              "    .colab-df-container {\n",
              "      display:flex;\n",
              "      flex-wrap:wrap;\n",
              "      gap: 12px;\n",
              "    }\n",
              "\n",
              "    .colab-df-convert {\n",
              "      background-color: #E8F0FE;\n",
              "      border: none;\n",
              "      border-radius: 50%;\n",
              "      cursor: pointer;\n",
              "      display: none;\n",
              "      fill: #1967D2;\n",
              "      height: 32px;\n",
              "      padding: 0 0 0 0;\n",
              "      width: 32px;\n",
              "    }\n",
              "\n",
              "    .colab-df-convert:hover {\n",
              "      background-color: #E2EBFA;\n",
              "      box-shadow: 0px 1px 2px rgba(60, 64, 67, 0.3), 0px 1px 3px 1px rgba(60, 64, 67, 0.15);\n",
              "      fill: #174EA6;\n",
              "    }\n",
              "\n",
              "    [theme=dark] .colab-df-convert {\n",
              "      background-color: #3B4455;\n",
              "      fill: #D2E3FC;\n",
              "    }\n",
              "\n",
              "    [theme=dark] .colab-df-convert:hover {\n",
              "      background-color: #434B5C;\n",
              "      box-shadow: 0px 1px 3px 1px rgba(0, 0, 0, 0.15);\n",
              "      filter: drop-shadow(0px 1px 2px rgba(0, 0, 0, 0.3));\n",
              "      fill: #FFFFFF;\n",
              "    }\n",
              "  </style>\n",
              "\n",
              "      <script>\n",
              "        const buttonEl =\n",
              "          document.querySelector('#df-a1b1ba52-606e-43d4-b655-08b35e2f8859 button.colab-df-convert');\n",
              "        buttonEl.style.display =\n",
              "          google.colab.kernel.accessAllowed ? 'block' : 'none';\n",
              "\n",
              "        async function convertToInteractive(key) {\n",
              "          const element = document.querySelector('#df-a1b1ba52-606e-43d4-b655-08b35e2f8859');\n",
              "          const dataTable =\n",
              "            await google.colab.kernel.invokeFunction('convertToInteractive',\n",
              "                                                     [key], {});\n",
              "          if (!dataTable) return;\n",
              "\n",
              "          const docLinkHtml = 'Like what you see? Visit the ' +\n",
              "            '<a target=\"_blank\" href=https://colab.research.google.com/notebooks/data_table.ipynb>data table notebook</a>'\n",
              "            + ' to learn more about interactive tables.';\n",
              "          element.innerHTML = '';\n",
              "          dataTable['output_type'] = 'display_data';\n",
              "          await google.colab.output.renderOutput(dataTable, element);\n",
              "          const docLink = document.createElement('div');\n",
              "          docLink.innerHTML = docLinkHtml;\n",
              "          element.appendChild(docLink);\n",
              "        }\n",
              "      </script>\n",
              "    </div>\n",
              "  </div>\n",
              "  "
            ]
          },
          "metadata": {},
          "execution_count": 3
        }
      ]
    },
    {
      "cell_type": "code",
      "source": [
        "pip install semisupervised"
      ],
      "metadata": {
        "colab": {
          "base_uri": "https://localhost:8080/"
        },
        "id": "Ho9LKU4SC1FV",
        "outputId": "33795bbb-9f5a-405f-9246-32b92e7d6612"
      },
      "execution_count": 4,
      "outputs": [
        {
          "output_type": "stream",
          "name": "stdout",
          "text": [
            "Looking in indexes: https://pypi.org/simple, https://us-python.pkg.dev/colab-wheels/public/simple/\n",
            "Collecting semisupervised\n",
            "  Downloading semisupervised-0.0.28.tar.gz (20 kB)\n",
            "  Preparing metadata (setup.py) ... \u001b[?25l\u001b[?25hdone\n",
            "Requirement already satisfied: numpy in /usr/local/lib/python3.9/dist-packages (from semisupervised) (1.22.4)\n",
            "Requirement already satisfied: pandas in /usr/local/lib/python3.9/dist-packages (from semisupervised) (1.4.4)\n",
            "Collecting sklearn\n",
            "  Downloading sklearn-0.0.post1.tar.gz (3.6 kB)\n",
            "  Preparing metadata (setup.py) ... \u001b[?25l\u001b[?25hdone\n",
            "Requirement already satisfied: python-dateutil>=2.8.1 in /usr/local/lib/python3.9/dist-packages (from pandas->semisupervised) (2.8.2)\n",
            "Requirement already satisfied: pytz>=2020.1 in /usr/local/lib/python3.9/dist-packages (from pandas->semisupervised) (2022.7.1)\n",
            "Requirement already satisfied: six>=1.5 in /usr/local/lib/python3.9/dist-packages (from python-dateutil>=2.8.1->pandas->semisupervised) (1.15.0)\n",
            "Building wheels for collected packages: semisupervised, sklearn\n",
            "  Building wheel for semisupervised (setup.py) ... \u001b[?25l\u001b[?25hdone\n",
            "  Created wheel for semisupervised: filename=semisupervised-0.0.28-py3-none-any.whl size=21483 sha256=2125bab54e9996dbc3203a17483789ca659ccdbe38fa72f41c051e32ab6261f5\n",
            "  Stored in directory: /root/.cache/pip/wheels/a2/8e/5f/436fcb0f5f31e029f5d3c6310282e2d324796acdcb99b8c658\n",
            "  Building wheel for sklearn (setup.py) ... \u001b[?25l\u001b[?25hdone\n",
            "  Created wheel for sklearn: filename=sklearn-0.0.post1-py3-none-any.whl size=2955 sha256=060afbdf20596af012b3467bdb7394bf07366cace543752518d9e5dbb1b92899\n",
            "  Stored in directory: /root/.cache/pip/wheels/f8/e0/3d/9d0c2020c44a519b9f02ab4fa6d2a4a996c98d79ab2f569fa1\n",
            "Successfully built semisupervised sklearn\n",
            "Installing collected packages: sklearn, semisupervised\n",
            "Successfully installed semisupervised-0.0.28 sklearn-0.0.post1\n"
          ]
        }
      ]
    },
    {
      "cell_type": "code",
      "source": [
        "pip show semisupervised\n"
      ],
      "metadata": {
        "colab": {
          "base_uri": "https://localhost:8080/"
        },
        "id": "OPRYbDOLEnzd",
        "outputId": "db668718-53b7-4bb9-e56a-604d105f4773"
      },
      "execution_count": 5,
      "outputs": [
        {
          "output_type": "stream",
          "name": "stdout",
          "text": [
            "Name: semisupervised\n",
            "Version: 0.0.28\n",
            "Summary: Python implementation of semi-supervised learning algorithm\n",
            "Home-page: https://github.com/rosefun/semisupervised\n",
            "Author: Rosefun\n",
            "Author-email: rosefun@foxmail.com\n",
            "License: UNKNOWN\n",
            "Location: /usr/local/lib/python3.9/dist-packages\n",
            "Requires: numpy, pandas, sklearn\n",
            "Required-by: \n"
          ]
        }
      ]
    },
    {
      "cell_type": "code",
      "source": [
        "pip install emoji"
      ],
      "metadata": {
        "colab": {
          "base_uri": "https://localhost:8080/"
        },
        "id": "Y379D4-yGE38",
        "outputId": "310256ec-074f-4190-cc45-1ce6bbaeece0"
      },
      "execution_count": 6,
      "outputs": [
        {
          "output_type": "stream",
          "name": "stdout",
          "text": [
            "Looking in indexes: https://pypi.org/simple, https://us-python.pkg.dev/colab-wheels/public/simple/\n",
            "Collecting emoji\n",
            "  Downloading emoji-2.2.0.tar.gz (240 kB)\n",
            "\u001b[2K     \u001b[90m━━━━━━━━━━━━━━━━━━━━━━━━━━━━━━━━━━━━━━━\u001b[0m \u001b[32m240.9/240.9 KB\u001b[0m \u001b[31m6.4 MB/s\u001b[0m eta \u001b[36m0:00:00\u001b[0m\n",
            "\u001b[?25h  Preparing metadata (setup.py) ... \u001b[?25l\u001b[?25hdone\n",
            "Building wheels for collected packages: emoji\n",
            "  Building wheel for emoji (setup.py) ... \u001b[?25l\u001b[?25hdone\n",
            "  Created wheel for emoji: filename=emoji-2.2.0-py3-none-any.whl size=234926 sha256=f258615ee438b64d8d28c4a2c979c6b46450aa416eeaeb15a8b7756e76968a40\n",
            "  Stored in directory: /root/.cache/pip/wheels/9a/b8/0f/f580817231cbf59f6ade9fd132ff60ada1de9f7dc85521f857\n",
            "Successfully built emoji\n",
            "Installing collected packages: emoji\n",
            "Successfully installed emoji-2.2.0\n"
          ]
        }
      ]
    },
    {
      "cell_type": "code",
      "source": [
        "import re\n",
        "import string\n",
        "import nltk\n",
        "import emoji\n",
        "from nltk.tokenize import word_tokenize\n",
        "from nltk.corpus import stopwords\n",
        "from nltk.stem import WordNetLemmatizer\n",
        "from sklearn.semi_supervised import SelfTrainingClassifier\n",
        "from sklearn.svm import LinearSVC\n",
        "\n",
        "nltk.download('stopwords')\n",
        "nltk.download('wordnet')\n",
        "nltk.download('punkt')\n",
        "nltk.download('omw-1.4')\n",
        "# Assuming you have a labeled dataset of tweets in a variable called 'labeled_tweets'\n",
        "# and an unlabeled dataset of tweets in a variable called 'unlabeled_tweets'\n",
        "\n",
        "# Step 1: Define a function to preprocess the tweet text data\n",
        "def preprocess_tweet_text(tweet):\n",
        "    \n",
        "    tweet = emoji.replace_emoji(tweet,'')\n",
        "    # Remove URLs\n",
        "    tweet = re.sub(r\"http\\S+\", \"\", tweet)\n",
        "    \n",
        "    # Remove punctuations\n",
        "    tweet = tweet.translate(str.maketrans(\"\", \"\", string.punctuation))\n",
        "    \n",
        "    # Tokenize the tweet text\n",
        "    tokens = word_tokenize(tweet)\n",
        "    \n",
        "    # Remove stopwords\n",
        "    stop_words = set(stopwords.words('english'))\n",
        "    tokens = [token for token in tokens if token.lower() not in stop_words]\n",
        "    \n",
        "    # Lemmatize the tokens\n",
        "    lemmatizer = WordNetLemmatizer()\n",
        "    tokens = [lemmatizer.lemmatize(token) for token in tokens]\n",
        "    \n",
        "    # Join the tokens back into a string\n",
        "    processed_tweet = \" \".join(tokens)\n",
        "    \n",
        "    return processed_tweet\n",
        "\n",
        "# Step 2: Apply the preprocess_tweet_text function to the tweet text columns of both labeled and unlabeled datasets\n",
        "labeled_tweets['TWEET'] = labeled_tweets['TWEET'].apply(preprocess_tweet_text)\n",
        "unlabeled_tweets['TWEET'] = unlabeled_tweets['TWEET'].apply(preprocess_tweet_text)\n",
        "\n",
        "\n"
      ],
      "metadata": {
        "colab": {
          "base_uri": "https://localhost:8080/"
        },
        "id": "tqmX7pc9FbIn",
        "outputId": "df744b59-116c-4701-fef9-dae76df53487"
      },
      "execution_count": 13,
      "outputs": [
        {
          "output_type": "stream",
          "name": "stderr",
          "text": [
            "[nltk_data] Downloading package stopwords to /root/nltk_data...\n",
            "[nltk_data]   Package stopwords is already up-to-date!\n",
            "[nltk_data] Downloading package wordnet to /root/nltk_data...\n",
            "[nltk_data]   Package wordnet is already up-to-date!\n",
            "[nltk_data] Downloading package punkt to /root/nltk_data...\n",
            "[nltk_data]   Package punkt is already up-to-date!\n",
            "[nltk_data] Downloading package omw-1.4 to /root/nltk_data...\n",
            "[nltk_data]   Package omw-1.4 is already up-to-date!\n"
          ]
        }
      ]
    },
    {
      "cell_type": "code",
      "source": [
        "from sklearn.feature_extraction.text import CountVectorizer\n",
        "\n",
        "# Create a CountVectorizer object to convert tweet texts into feature vectors\n",
        "vectorizer = CountVectorizer()\n",
        "\n",
        "# Convert the labeled and unlabeled tweet texts into feature vectors\n",
        "labeled_features = vectorizer.fit_transform(labeled_tweets['TWEET'])\n",
        "unlabeled_features = vectorizer.transform(unlabeled_tweets['TWEET'])\n",
        "\n",
        "# Initialize the classifier with the labeled data\n",
        "clf = SelfTrainingClassifier(LinearSVC(), threshold=0.8)\n",
        "clf.fit(labeled_features, labeled_tweets['LABEL'])\n",
        "\n",
        "\n",
        "\n",
        "# Step 4: Loop through a fixed number of iterations or until all tweets are labeled\n",
        "num_iterations = 0\n",
        "while num_iterations < 800 and len(unlabeled_tweets) > 0:\n",
        "    # Step 4a: Predict labels for the unlabeled tweets using the current classifier\n",
        "    predicted_labels = clf.predict(unlabeled_features)\n",
        "    \n",
        "    # Step 4b: Identify tweets with high confidence (probability > threshold)\n",
        "    high_confidence_mask = predicted_labels != -1\n",
        "    \n",
        "    # Step 4c: Add high-confidence tweets to the labeled dataset and remove them from the unlabeled dataset\n",
        "    labeled_tweets = labeled_tweets.append(unlabeled_tweets[high_confidence_mask])\n",
        "    labeled_tweets.reset_index(inplace=True, drop=True)\n",
        "    unlabeled_tweets = unlabeled_tweets[~high_confidence_mask]\n",
        "    unlabeled_tweets.reset_index(inplace=True, drop=True)\n",
        "    \n",
        "    # Step 4d: Retrain the classifier with the updated labeled dataset\n",
        "    clf.fit(labeled_features, labeled_tweets['LABEL'])\n",
        "    \n",
        "    # Step 5: Increment the iteration counter\n",
        "    num_iterations += 1\n",
        "\n",
        "    "
      ],
      "metadata": {
        "id": "sdqFB2-SIN7Y",
        "colab": {
          "base_uri": "https://localhost:8080/"
        },
        "outputId": "21e9d405-2836-42eb-a62b-c1c3ea0fd769"
      },
      "execution_count": 14,
      "outputs": [
        {
          "output_type": "stream",
          "name": "stderr",
          "text": [
            "/usr/local/lib/python3.9/dist-packages/sklearn/semi_supervised/_self_training.py:212: UserWarning: y contains no unlabeled samples\n",
            "  warnings.warn(\"y contains no unlabeled samples\", UserWarning)\n"
          ]
        }
      ]
    },
    {
      "cell_type": "code",
      "source": [
        "# Convert the test set tweet texts into feature vectors using the same vectorizer object\n",
        "test_features = vectorizer.transform(val['TWEET'])\n",
        "\n",
        "# Use the trained classifier to predict labels for the test set\n",
        "val['prediction'] = clf.predict(test_features)\n"
      ],
      "metadata": {
        "id": "TU4KzyeDOiqZ"
      },
      "execution_count": 15,
      "outputs": []
    },
    {
      "cell_type": "code",
      "source": [
        "from sklearn.metrics import accuracy_score\n",
        "\n",
        "# Calculate the accuracy of the predicted labels\n",
        "accuracy = accuracy_score(val['LABEL'], val['prediction'])\n",
        "\n",
        "print(f\"Accuracy: {accuracy}\")\n"
      ],
      "metadata": {
        "colab": {
          "base_uri": "https://localhost:8080/"
        },
        "id": "plWwK1CROszG",
        "outputId": "e08c12a6-3abe-4b7d-aa1f-a863f17f3b85"
      },
      "execution_count": 16,
      "outputs": [
        {
          "output_type": "stream",
          "name": "stdout",
          "text": [
            "Accuracy: 0.775\n"
          ]
        }
      ]
    }
  ]
}